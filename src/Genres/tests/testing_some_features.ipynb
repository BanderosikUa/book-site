{
 "cells": [
  {
   "cell_type": "code",
   "execution_count": 1,
   "id": "7ed6389c",
   "metadata": {},
   "outputs": [],
   "source": [
    "import os\n",
    "import django\n",
    "os.environ.setdefault('DJANGO_SETTINGS_MODULE', 'config.settings.local')\n",
    "os.environ[\"DJANGO_ALLOW_ASYNC_UNSAFE\"] = \"true\"\n",
    "django.setup()"
   ]
  },
  {
   "cell_type": "code",
   "execution_count": 2,
   "id": "26cec1ba",
   "metadata": {},
   "outputs": [],
   "source": [
    "from books.models import Book\n",
    "from genres.models import Genre"
   ]
  },
  {
   "cell_type": "code",
   "execution_count": 3,
   "id": "bd361730",
   "metadata": {},
   "outputs": [],
   "source": [
    "book = Book.objects.get(pk=4)"
   ]
  },
  {
   "cell_type": "code",
   "execution_count": 11,
   "id": "282348f2",
   "metadata": {},
   "outputs": [
    {
     "data": {
      "text/plain": [
       "<QuerySet [<Book: NAME: Чорна рада, AUTHOR: Пантелеймон Куліш,GENRE: ['Novel', 'Epic']>, <Book: NAME: Taras Bulba, AUTHOR: Микола Гоголь,GENRE: ['Novel']>]>"
      ]
     },
     "execution_count": 11,
     "metadata": {},
     "output_type": "execute_result"
    }
   ],
   "source": [
    "Book.objects.filter(genre__slug='novel').order_by('-time_created')"
   ]
  }
 ],
 "metadata": {
  "kernelspec": {
   "display_name": "Django Shell-Plus",
   "language": "python",
   "name": "django_extensions"
  },
  "language_info": {
   "codemirror_mode": {
    "name": "ipython",
    "version": 3
   },
   "file_extension": ".py",
   "mimetype": "text/x-python",
   "name": "python",
   "nbconvert_exporter": "python",
   "pygments_lexer": "ipython3",
   "version": "3.10.4"
  }
 },
 "nbformat": 4,
 "nbformat_minor": 5
}
