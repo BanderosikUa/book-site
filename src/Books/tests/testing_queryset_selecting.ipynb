{
 "cells": [
  {
   "cell_type": "code",
   "execution_count": 1,
   "id": "9996483c",
   "metadata": {},
   "outputs": [],
   "source": [
    "import os\n",
    "import django\n",
    "os.environ.setdefault('DJANGO_SETTINGS_MODULE', 'config.settings.local')\n",
    "os.environ[\"DJANGO_ALLOW_ASYNC_UNSAFE\"] = \"true\"\n",
    "django.setup()"
   ]
  },
  {
   "cell_type": "code",
   "execution_count": 2,
   "id": "4f15de4f",
   "metadata": {},
   "outputs": [],
   "source": [
    "from users.models import CustomUser"
   ]
  },
  {
   "cell_type": "code",
   "execution_count": 3,
   "id": "e2f312ef",
   "metadata": {},
   "outputs": [],
   "source": [
    "from django.utils import timezone\n",
    "from Books.models import *\n",
    "from Books.services import *\n",
    "from Chapters.models import *\n",
    "from Books.selectors import *\n",
    "from django.contrib.postgres.aggregates import * \n",
    "from Authors.models import Author\n",
    "from django.db.models import *\n",
    "from django.db.models.functions import *\n",
    "from django.core import serializers\n",
    "from django.shortcuts import get_object_or_404\n",
    "from hitcount.models import HitCount\n",
    "from django.test import Client\n",
    "from django.urls import reverse\n",
    "from Chapters.service import get_time_verbally"
   ]
  },
  {
   "cell_type": "code",
   "execution_count": 7,
   "id": "4f2a11c1",
   "metadata": {},
   "outputs": [
    {
     "data": {
      "text/plain": [
       "'/profile/1/'"
      ]
     },
     "execution_count": 7,
     "metadata": {},
     "output_type": "execute_result"
    }
   ],
   "source": [
    "CustomUser.objects.get(pk=1).get_absolute_url()"
   ]
  },
  {
   "cell_type": "code",
   "execution_count": 4,
   "id": "25070473",
   "metadata": {},
   "outputs": [],
   "source": []
  },
  {
   "cell_type": "code",
   "execution_count": 5,
   "id": "dc4f04b2",
   "metadata": {},
   "outputs": [],
   "source": []
  },
  {
   "cell_type": "code",
   "execution_count": 5,
   "id": "f0cfa0b7",
   "metadata": {},
   "outputs": [],
   "source": []
  },
  {
   "cell_type": "code",
   "execution_count": 6,
   "id": "94098860",
   "metadata": {},
   "outputs": [
    {
     "data": {
      "text/plain": [
       "<QuerySet [<Author: Tracy Hogg>, <Author: Kent Haruf>, <Author: Maggie Dent>, <Author: Lorraine Massey>, <Author: T. K. V. Desikachar>, <Author: Barney Stinson>, <Author: Elizabeth Pantley>, <Author: Meredith Jacobs>, <Author: Kay Al-Ghani>, <Author: B. K. S. Iyengar>, <Author: Dr Gabor Mate>, <Author: Ross W. Greene>, <Author: Kate Harrison>, <Author: Bernie Clark>, <Author: Clarissa Pinkola Estes>, <Author: Rachel Heller>, <Author: Dr. Sue Johnson>, <Author: Tony Robbins>, <Author: Courtney Peppernell>, <Author: Lisa Wingate>, '...(remaining elements truncated)...']>"
      ]
     },
     "execution_count": 6,
     "metadata": {},
     "output_type": "execute_result"
    }
   ],
   "source": []
  },
  {
   "cell_type": "code",
   "execution_count": 4,
   "id": "8313fb99",
   "metadata": {},
   "outputs": [
    {
     "ename": "ValidationError",
     "evalue": "{'__all__': [\"Author name can't be null\"]}",
     "output_type": "error",
     "traceback": [
      "\u001b[0;31m---------------------------------------------------------------------------\u001b[0m",
      "\u001b[0;31mValidationError\u001b[0m                           Traceback (most recent call last)",
      "Input \u001b[0;32mIn [4]\u001b[0m, in \u001b[0;36m<cell line: 1>\u001b[0;34m()\u001b[0m\n\u001b[0;32m----> 1\u001b[0m author \u001b[38;5;241m=\u001b[39m \u001b[43mAuthor\u001b[49m\u001b[38;5;241;43m.\u001b[39;49m\u001b[43mobjects\u001b[49m\u001b[38;5;241;43m.\u001b[39;49m\u001b[43mcreate\u001b[49m\u001b[43m(\u001b[49m\u001b[43mname\u001b[49m\u001b[38;5;241;43m=\u001b[39;49m\u001b[38;5;124;43m'\u001b[39;49m\u001b[38;5;124;43m \u001b[39;49m\u001b[38;5;124;43m'\u001b[39;49m\u001b[43m)\u001b[49m\n",
      "File \u001b[0;32m~/Projects/book-site/venv/lib/python3.10/site-packages/django/db/models/manager.py:85\u001b[0m, in \u001b[0;36mBaseManager._get_queryset_methods.<locals>.create_method.<locals>.manager_method\u001b[0;34m(self, *args, **kwargs)\u001b[0m\n\u001b[1;32m     84\u001b[0m \u001b[38;5;28;01mdef\u001b[39;00m \u001b[38;5;21mmanager_method\u001b[39m(\u001b[38;5;28mself\u001b[39m, \u001b[38;5;241m*\u001b[39margs, \u001b[38;5;241m*\u001b[39m\u001b[38;5;241m*\u001b[39mkwargs):\n\u001b[0;32m---> 85\u001b[0m     \u001b[38;5;28;01mreturn\u001b[39;00m \u001b[38;5;28;43mgetattr\u001b[39;49m\u001b[43m(\u001b[49m\u001b[38;5;28;43mself\u001b[39;49m\u001b[38;5;241;43m.\u001b[39;49m\u001b[43mget_queryset\u001b[49m\u001b[43m(\u001b[49m\u001b[43m)\u001b[49m\u001b[43m,\u001b[49m\u001b[43m \u001b[49m\u001b[43mname\u001b[49m\u001b[43m)\u001b[49m\u001b[43m(\u001b[49m\u001b[38;5;241;43m*\u001b[39;49m\u001b[43margs\u001b[49m\u001b[43m,\u001b[49m\u001b[43m \u001b[49m\u001b[38;5;241;43m*\u001b[39;49m\u001b[38;5;241;43m*\u001b[39;49m\u001b[43mkwargs\u001b[49m\u001b[43m)\u001b[49m\n",
      "File \u001b[0;32m~/Projects/book-site/venv/lib/python3.10/site-packages/django/db/models/query.py:514\u001b[0m, in \u001b[0;36mQuerySet.create\u001b[0;34m(self, **kwargs)\u001b[0m\n\u001b[1;32m    512\u001b[0m obj \u001b[38;5;241m=\u001b[39m \u001b[38;5;28mself\u001b[39m\u001b[38;5;241m.\u001b[39mmodel(\u001b[38;5;241m*\u001b[39m\u001b[38;5;241m*\u001b[39mkwargs)\n\u001b[1;32m    513\u001b[0m \u001b[38;5;28mself\u001b[39m\u001b[38;5;241m.\u001b[39m_for_write \u001b[38;5;241m=\u001b[39m \u001b[38;5;28;01mTrue\u001b[39;00m\n\u001b[0;32m--> 514\u001b[0m \u001b[43mobj\u001b[49m\u001b[38;5;241;43m.\u001b[39;49m\u001b[43msave\u001b[49m\u001b[43m(\u001b[49m\u001b[43mforce_insert\u001b[49m\u001b[38;5;241;43m=\u001b[39;49m\u001b[38;5;28;43;01mTrue\u001b[39;49;00m\u001b[43m,\u001b[49m\u001b[43m \u001b[49m\u001b[43musing\u001b[49m\u001b[38;5;241;43m=\u001b[39;49m\u001b[38;5;28;43mself\u001b[39;49m\u001b[38;5;241;43m.\u001b[39;49m\u001b[43mdb\u001b[49m\u001b[43m)\u001b[49m\n\u001b[1;32m    515\u001b[0m \u001b[38;5;28;01mreturn\u001b[39;00m obj\n",
      "File \u001b[0;32m~/Projects/book-site/src/core/models.py:35\u001b[0m, in \u001b[0;36mNameStampedModel.save\u001b[0;34m(self, *args, **kwargs)\u001b[0m\n\u001b[1;32m     33\u001b[0m     name \u001b[38;5;241m=\u001b[39m unidecode(\u001b[38;5;28mself\u001b[39m\u001b[38;5;241m.\u001b[39mname)\n\u001b[1;32m     34\u001b[0m     \u001b[38;5;28mself\u001b[39m\u001b[38;5;241m.\u001b[39mslug \u001b[38;5;241m=\u001b[39m slugify(name)\n\u001b[0;32m---> 35\u001b[0m \u001b[38;5;28;43mself\u001b[39;49m\u001b[38;5;241;43m.\u001b[39;49m\u001b[43mfull_clean\u001b[49m\u001b[43m(\u001b[49m\u001b[43m)\u001b[49m\n\u001b[1;32m     36\u001b[0m \u001b[38;5;28msuper\u001b[39m()\u001b[38;5;241m.\u001b[39msave(\u001b[38;5;241m*\u001b[39margs, \u001b[38;5;241m*\u001b[39m\u001b[38;5;241m*\u001b[39mkwargs)\n",
      "File \u001b[0;32m~/Projects/book-site/venv/lib/python3.10/site-packages/django/db/models/base.py:1405\u001b[0m, in \u001b[0;36mModel.full_clean\u001b[0;34m(self, exclude, validate_unique)\u001b[0m\n\u001b[1;32m   1402\u001b[0m         errors \u001b[38;5;241m=\u001b[39m e\u001b[38;5;241m.\u001b[39mupdate_error_dict(errors)\n\u001b[1;32m   1404\u001b[0m \u001b[38;5;28;01mif\u001b[39;00m errors:\n\u001b[0;32m-> 1405\u001b[0m     \u001b[38;5;28;01mraise\u001b[39;00m ValidationError(errors)\n",
      "\u001b[0;31mValidationError\u001b[0m: {'__all__': [\"Author name can't be null\"]}"
     ]
    }
   ],
   "source": []
  },
  {
   "cell_type": "code",
   "execution_count": 29,
   "id": "e04e29ce",
   "metadata": {},
   "outputs": [
    {
     "data": {
      "text/plain": [
       "<QuerySet [{'userbookrelation__book': 2}, {'userbookrelation__book': 2}, {'userbookrelation__book': 2}, {'userbookrelation__book': 2}, {'userbookrelation__book': 2}, {'userbookrelation__book': 2}, {'userbookrelation__book': 2}, {'userbookrelation__book': 2}, {'userbookrelation__book': 2}, {'userbookrelation__book': 2}, {'userbookrelation__book': 2}, {'userbookrelation__book': 2}, {'userbookrelation__book': 2}, {'userbookrelation__book': 2}, {'userbookrelation__book': 2}, {'userbookrelation__book': 2}, {'userbookrelation__book': 2}, {'userbookrelation__book': 2}, {'userbookrelation__book': 3}, {'userbookrelation__book': 3}, '...(remaining elements truncated)...']>"
      ]
     },
     "execution_count": 29,
     "metadata": {},
     "output_type": "execute_result"
    }
   ],
   "source": []
  },
  {
   "cell_type": "code",
   "execution_count": 28,
   "id": "14263426",
   "metadata": {},
   "outputs": [
    {
     "data": {
      "text/plain": [
       "<QuerySet []>"
      ]
     },
     "execution_count": 28,
     "metadata": {},
     "output_type": "execute_result"
    }
   ],
   "source": []
  },
  {
   "cell_type": "code",
   "execution_count": 31,
   "id": "67986a42",
   "metadata": {},
   "outputs": [],
   "source": []
  },
  {
   "cell_type": "markdown",
   "id": "49a54f1c",
   "metadata": {},
   "source": [
    "get_avarage_rating()"
   ]
  },
  {
   "cell_type": "code",
   "execution_count": 35,
   "id": "59370a21",
   "metadata": {},
   "outputs": [],
   "source": []
  },
  {
   "cell_type": "code",
   "execution_count": 40,
   "id": "903c3753",
   "metadata": {},
   "outputs": [
    {
     "data": {
      "text/plain": [
       "<QuerySet [<Book: NAME: The Dialectical Behavior Therapy Skills Workbook, AUTHOR: Matthew McKay,GENRE: ['Medical']>, <Book: NAME: The Boy Who Was Raised as a Dog, 3rd Edition, AUTHOR: Bruce D. Perry,GENRE: ['Medical']>]>"
      ]
     },
     "execution_count": 40,
     "metadata": {},
     "output_type": "execute_result"
    }
   ],
   "source": []
  },
  {
   "cell_type": "code",
   "execution_count": null,
   "id": "5aa6c731",
   "metadata": {},
   "outputs": [],
   "source": []
  },
  {
   "cell_type": "code",
   "execution_count": null,
   "id": "c6e0ffeb",
   "metadata": {},
   "outputs": [],
   "source": []
  },
  {
   "cell_type": "code",
   "execution_count": null,
   "id": "a56cd1f5",
   "metadata": {},
   "outputs": [],
   "source": []
  },
  {
   "cell_type": "code",
   "execution_count": null,
   "id": "4c9f0491",
   "metadata": {},
   "outputs": [],
   "source": []
  },
  {
   "cell_type": "code",
   "execution_count": null,
   "id": "b93f7af8",
   "metadata": {},
   "outputs": [],
   "source": []
  },
  {
   "cell_type": "code",
   "execution_count": null,
   "id": "8968f091",
   "metadata": {},
   "outputs": [],
   "source": []
  },
  {
   "cell_type": "code",
   "execution_count": null,
   "id": "993b4475",
   "metadata": {},
   "outputs": [],
   "source": []
  },
  {
   "cell_type": "code",
   "execution_count": null,
   "id": "50e9433e",
   "metadata": {},
   "outputs": [],
   "source": []
  },
  {
   "cell_type": "code",
   "execution_count": null,
   "id": "681ec39e",
   "metadata": {},
   "outputs": [],
   "source": []
  },
  {
   "cell_type": "code",
   "execution_count": null,
   "id": "1ecb7655",
   "metadata": {},
   "outputs": [],
   "source": []
  },
  {
   "cell_type": "code",
   "execution_count": null,
   "id": "d7c882a4",
   "metadata": {},
   "outputs": [],
   "source": []
  },
  {
   "cell_type": "code",
   "execution_count": null,
   "id": "599f6562",
   "metadata": {},
   "outputs": [],
   "source": []
  }
 ],
 "metadata": {
  "kernelspec": {
   "display_name": "Django Shell-Plus",
   "language": "python",
   "name": "django_extensions"
  },
  "language_info": {
   "codemirror_mode": {
    "name": "ipython",
    "version": 3
   },
   "file_extension": ".py",
   "mimetype": "text/x-python",
   "name": "python",
   "nbconvert_exporter": "python",
   "pygments_lexer": "ipython3",
   "version": "3.10.5"
  }
 },
 "nbformat": 4,
 "nbformat_minor": 5
}
