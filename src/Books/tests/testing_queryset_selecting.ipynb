{
 "cells": [
  {
   "cell_type": "code",
   "execution_count": 1,
   "id": "9996483c",
   "metadata": {},
   "outputs": [],
   "source": [
    "import os\n",
    "import django\n",
    "os.environ.setdefault('DJANGO_SETTINGS_MODULE', 'config.settings.local')\n",
    "os.environ[\"DJANGO_ALLOW_ASYNC_UNSAFE\"] = \"true\"\n",
    "django.setup()"
   ]
  },
  {
   "cell_type": "code",
   "execution_count": 2,
   "id": "4f15de4f",
   "metadata": {},
   "outputs": [],
   "source": [
    "from users.models import CustomUser"
   ]
  },
  {
   "cell_type": "code",
   "execution_count": 3,
   "id": "e2f312ef",
   "metadata": {},
   "outputs": [],
   "source": [
    "from Books.models import *\n",
    "from Books.services import *\n",
    "from Books.selectors import *\n",
    "from django.contrib.postgres.aggregates import * \n",
    "from Authors.models import Author\n",
    "from django.db.models import *\n",
    "from django.db.models.functions import *\n",
    "from django.core import serializers\n",
    "from django.shortcuts import get_object_or_404\n",
    "from hitcount.models import HitCount\n",
    "from django.test import Client\n",
    "from django.urls import reverse"
   ]
  },
  {
   "cell_type": "code",
   "execution_count": 4,
   "id": "4f2a11c1",
   "metadata": {},
   "outputs": [
    {
     "data": {
      "text/plain": [
       "[<Author: Lonely Planet>,\n",
       " <Author: Moleskine>,\n",
       " <Author: George R. R. Martin>,\n",
       " <Author: Jason Hazeley>,\n",
       " <Author: Roald Dahl>,\n",
       " <Author: Kohei Horikoshi>,\n",
       " <Author: Brandon Sanderson>,\n",
       " <Author: J. K. Rowling>,\n",
       " <Author: Михайло Коцюбинський>,\n",
       " <Author: Cassandra Clare>]"
      ]
     },
     "execution_count": 4,
     "metadata": {},
     "output_type": "execute_result"
    }
   ],
   "source": [
    "from Authors.service import _get_top_authors_by_books, _get_most_viewed_authors\n",
    "authors = (\n",
    "            Author.objects\n",
    "            .all()\n",
    "            .prefetch_related('book_author')\n",
    "            )\n",
    "top_viewed = _get_most_viewed_authors(authors)\n",
    "top = _get_top_authors_by_books(authors)\n",
    "top"
   ]
  },
  {
   "cell_type": "code",
   "execution_count": 8,
   "id": "25070473",
   "metadata": {},
   "outputs": [],
   "source": [
    "authors = Author.objects.all().annotate(counts=F('hit_count_generic__hits'))"
   ]
  },
  {
   "cell_type": "code",
   "execution_count": 10,
   "id": "dc4f04b2",
   "metadata": {},
   "outputs": [
    {
     "data": {
      "text/plain": [
       "<QuerySet [<Author: Adam Kay>, <Author: George R. R. Martin>, <Author: Lonely Planet>, <Author: Atul Gawande>, <Author: Rick Strassman M D>, <Author: Viktor E. Frankl>, <Author: Michael Mosley>, <Author: Oliver Sacks>, <Author: Paul Kalanithi>, <Author: Norman Doidge>, <Author: Anthony William>, <Author: Keri Smith>, <Author: Dr Natasha Campbell-McBride>, <Author: Austin Kleon>, <Author: American Psychiatric Association>, <Author: Giulia Enders>, <Author: Juju Sundin>, <Author: Tina Payne Bryson>, <Author: Michael Greger>, <Author: Philippa Perry>, '...(remaining elements truncated)...']>"
      ]
     },
     "execution_count": 10,
     "metadata": {},
     "output_type": "execute_result"
    }
   ],
   "source": [
    "authors"
   ]
  },
  {
   "cell_type": "code",
   "execution_count": 6,
   "id": "f0cfa0b7",
   "metadata": {},
   "outputs": [
    {
     "data": {
      "text/plain": [
       "118"
      ]
     },
     "execution_count": 6,
     "metadata": {},
     "output_type": "execute_result"
    }
   ],
   "source": []
  },
  {
   "cell_type": "code",
   "execution_count": 24,
   "id": "94098860",
   "metadata": {},
   "outputs": [],
   "source": [
    "    "
   ]
  },
  {
   "cell_type": "code",
   "execution_count": 28,
   "id": "8313fb99",
   "metadata": {},
   "outputs": [
    {
     "data": {
      "text/plain": [
       "(9,\n",
       " {'Books.UserBookRelation': 6,\n",
       "  'hitcount.Hit': 1,\n",
       "  'Books.Book': 1,\n",
       "  'hitcount.HitCount': 1})"
      ]
     },
     "execution_count": 28,
     "metadata": {},
     "output_type": "execute_result"
    }
   ],
   "source": []
  },
  {
   "cell_type": "code",
   "execution_count": 15,
   "id": "e04e29ce",
   "metadata": {},
   "outputs": [
    {
     "data": {
      "text/plain": [
       "(3, {'hitcount.Hit': 1, 'Authors.Author': 1, 'hitcount.HitCount': 1})"
      ]
     },
     "execution_count": 15,
     "metadata": {},
     "output_type": "execute_result"
    }
   ],
   "source": []
  },
  {
   "cell_type": "code",
   "execution_count": 42,
   "id": "14263426",
   "metadata": {},
   "outputs": [
    {
     "data": {
      "text/plain": [
       "0"
      ]
     },
     "execution_count": 42,
     "metadata": {},
     "output_type": "execute_result"
    }
   ],
   "source": []
  },
  {
   "cell_type": "code",
   "execution_count": 20,
   "id": "67986a42",
   "metadata": {},
   "outputs": [
    {
     "data": {
      "text/plain": [
       "'/media/books/2022/06/23/0000020.jpg'"
      ]
     },
     "execution_count": 20,
     "metadata": {},
     "output_type": "execute_result"
    }
   ],
   "source": []
  },
  {
   "cell_type": "markdown",
   "id": "49a54f1c",
   "metadata": {},
   "source": [
    "get_avarage_rating()"
   ]
  },
  {
   "cell_type": "code",
   "execution_count": 42,
   "id": "59370a21",
   "metadata": {},
   "outputs": [
    {
     "ename": "TypeError",
     "evalue": "'float' object cannot be interpreted as an integer",
     "output_type": "error",
     "traceback": [
      "\u001b[0;31m---------------------------------------------------------------------------\u001b[0m",
      "\u001b[0;31mTypeError\u001b[0m                                 Traceback (most recent call last)",
      "Input \u001b[0;32mIn [42]\u001b[0m, in \u001b[0;36m<cell line: 1>\u001b[0;34m()\u001b[0m\n\u001b[0;32m----> 1\u001b[0m genres \u001b[38;5;241m=\u001b[39m \u001b[38;5;28mlist\u001b[39m(\u001b[38;5;28;43mrange\u001b[39;49m\u001b[43m(\u001b[49m\u001b[38;5;241;43m5\u001b[39;49m\u001b[43m,\u001b[49m\u001b[43m \u001b[49m\u001b[38;5;241;43m0.1\u001b[39;49m\u001b[43m)\u001b[49m)\n",
      "\u001b[0;31mTypeError\u001b[0m: 'float' object cannot be interpreted as an integer"
     ]
    }
   ],
   "source": []
  },
  {
   "cell_type": "code",
   "execution_count": 39,
   "id": "903c3753",
   "metadata": {},
   "outputs": [],
   "source": []
  },
  {
   "cell_type": "code",
   "execution_count": 41,
   "id": "5aa6c731",
   "metadata": {},
   "outputs": [
    {
     "data": {
      "text/plain": [
       "(1, {'users.CustomUser': 1})"
      ]
     },
     "execution_count": 41,
     "metadata": {},
     "output_type": "execute_result"
    }
   ],
   "source": []
  },
  {
   "cell_type": "code",
   "execution_count": null,
   "id": "c6e0ffeb",
   "metadata": {},
   "outputs": [],
   "source": []
  },
  {
   "cell_type": "code",
   "execution_count": null,
   "id": "a56cd1f5",
   "metadata": {},
   "outputs": [],
   "source": []
  },
  {
   "cell_type": "code",
   "execution_count": null,
   "id": "4c9f0491",
   "metadata": {},
   "outputs": [],
   "source": []
  },
  {
   "cell_type": "code",
   "execution_count": null,
   "id": "b93f7af8",
   "metadata": {},
   "outputs": [],
   "source": []
  },
  {
   "cell_type": "code",
   "execution_count": null,
   "id": "8968f091",
   "metadata": {},
   "outputs": [],
   "source": []
  },
  {
   "cell_type": "code",
   "execution_count": null,
   "id": "993b4475",
   "metadata": {},
   "outputs": [],
   "source": []
  },
  {
   "cell_type": "code",
   "execution_count": null,
   "id": "50e9433e",
   "metadata": {},
   "outputs": [],
   "source": []
  },
  {
   "cell_type": "code",
   "execution_count": null,
   "id": "681ec39e",
   "metadata": {},
   "outputs": [],
   "source": []
  },
  {
   "cell_type": "code",
   "execution_count": null,
   "id": "1ecb7655",
   "metadata": {},
   "outputs": [],
   "source": []
  },
  {
   "cell_type": "code",
   "execution_count": null,
   "id": "d7c882a4",
   "metadata": {},
   "outputs": [],
   "source": []
  },
  {
   "cell_type": "code",
   "execution_count": null,
   "id": "599f6562",
   "metadata": {},
   "outputs": [],
   "source": []
  }
 ],
 "metadata": {
  "kernelspec": {
   "display_name": "Django Shell-Plus",
   "language": "python",
   "name": "django_extensions"
  },
  "language_info": {
   "codemirror_mode": {
    "name": "ipython",
    "version": 3
   },
   "file_extension": ".py",
   "mimetype": "text/x-python",
   "name": "python",
   "nbconvert_exporter": "python",
   "pygments_lexer": "ipython3",
   "version": "3.10.5"
  }
 },
 "nbformat": 4,
 "nbformat_minor": 5
}
