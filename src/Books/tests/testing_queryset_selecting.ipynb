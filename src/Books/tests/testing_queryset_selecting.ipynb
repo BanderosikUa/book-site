{
 "cells": [
  {
   "cell_type": "code",
   "execution_count": 3,
   "id": "9996483c",
   "metadata": {},
   "outputs": [],
   "source": [
    "import os\n",
    "import django\n",
    "os.environ.setdefault('DJANGO_SETTINGS_MODULE', 'config.settings.local')\n",
    "os.environ[\"DJANGO_ALLOW_ASYNC_UNSAFE\"] = \"true\"\n",
    "django.setup()"
   ]
  },
  {
   "cell_type": "code",
   "execution_count": 3,
   "id": "4f15de4f",
   "metadata": {},
   "outputs": [
    {
     "ename": "ImportError",
     "evalue": "cannot import name 'CustomUser' from 'django.contrib.auth.models' (/home/banderosik/Projects/book-site/venv/lib/python3.10/site-packages/django/contrib/auth/models.py)",
     "output_type": "error",
     "traceback": [
      "\u001b[0;31m---------------------------------------------------------------------------\u001b[0m",
      "\u001b[0;31mImportError\u001b[0m                               Traceback (most recent call last)",
      "Input \u001b[0;32mIn [3]\u001b[0m, in \u001b[0;36m<cell line: 1>\u001b[0;34m()\u001b[0m\n\u001b[0;32m----> 1\u001b[0m \u001b[38;5;28;01mfrom\u001b[39;00m \u001b[38;5;21;01mdjango\u001b[39;00m\u001b[38;5;21;01m.\u001b[39;00m\u001b[38;5;21;01mcontrib\u001b[39;00m\u001b[38;5;21;01m.\u001b[39;00m\u001b[38;5;21;01mauth\u001b[39;00m\u001b[38;5;21;01m.\u001b[39;00m\u001b[38;5;21;01mmodels\u001b[39;00m \u001b[38;5;28;01mimport\u001b[39;00m CustomUser\n",
      "\u001b[0;31mImportError\u001b[0m: cannot import name 'CustomUser' from 'django.contrib.auth.models' (/home/banderosik/Projects/book-site/venv/lib/python3.10/site-packages/django/contrib/auth/models.py)"
     ]
    }
   ],
   "source": [
    "from django.contrib.auth.models import CustomUser"
   ]
  },
  {
   "cell_type": "code",
   "execution_count": 4,
   "id": "e2f312ef",
   "metadata": {},
   "outputs": [],
   "source": [
    "from Books.models import *\n",
    "from Books.services import *\n",
    "from Books.selectors import *\n",
    "from django.contrib.postgres.aggregates import * \n",
    "from Authors.models import Author\n",
    "from django.db.models import *\n",
    "from django.db.models.functions import *\n",
    "from django.core import serializers\n",
    "from django.shortcuts import get_object_or_404\n",
    "from hitcount.models import HitCount"
   ]
  },
  {
   "cell_type": "code",
   "execution_count": 5,
   "id": "4f2a11c1",
   "metadata": {},
   "outputs": [],
   "source": []
  },
  {
   "cell_type": "code",
   "execution_count": 6,
   "id": "dc4f04b2",
   "metadata": {},
   "outputs": [],
   "source": []
  },
  {
   "cell_type": "code",
   "execution_count": 7,
   "id": "f0cfa0b7",
   "metadata": {},
   "outputs": [],
   "source": []
  },
  {
   "cell_type": "code",
   "execution_count": 8,
   "id": "94098860",
   "metadata": {},
   "outputs": [],
   "source": []
  },
  {
   "cell_type": "code",
   "execution_count": null,
   "id": "8313fb99",
   "metadata": {},
   "outputs": [],
   "source": [
    "import csv\n",
    "from django.core.files import File  # you need this somewhere\n",
    "import urllib\n",
    "\n",
    "file_path = '/home/banderosik/Downloads/main_dataset.csv'\n",
    "imgs_path = '/home/banderosik/Downloads/book-covers/'\n",
    "\n",
    "\n",
    "with open(file_path) as csvfile:\n",
    "    csvreader = csv.reader(csvfile)\n",
    "    header = []\n",
    "    columns_names = next(csvreader)\n",
    "    for row in csvreader:\n",
    "        name = row[columns_names.index('name')]\n",
    "        author = row[columns_names.index('author')]\n",
    "        genre = row[columns_names.index('category')]\n",
    "        photo_url = imgs_path+row[columns_names.index('img_paths')].split('dataset/')[1]\n",
    "        author_obj = Author.objects.get_or_create(name=author)[0]\n",
    "        genre_obj = Genre.objects.get_or_create(name=genre)[0]\n",
    "        try:\n",
    "            if not Book.objects.filter(name=name).exists():\n",
    "                book = Book.objects.create(name=name, author=author_obj)\n",
    "                book.genre.add(genre_obj)\n",
    "                book.photo.save(photo_url.split('/')[-1], File(open(photo_url, 'rb')))\n",
    "                book.save()\n",
    "        except:\n",
    "            continue\n",
    "        \n"
   ]
  },
  {
   "cell_type": "code",
   "execution_count": 40,
   "id": "e04e29ce",
   "metadata": {},
   "outputs": [],
   "source": [
    "qs = Book.objects.order_by('hit_count_generic__hits')\n"
   ]
  },
  {
   "cell_type": "code",
   "execution_count": 42,
   "id": "14263426",
   "metadata": {},
   "outputs": [
    {
     "data": {
      "text/plain": [
       "0"
      ]
     },
     "execution_count": 42,
     "metadata": {},
     "output_type": "execute_result"
    }
   ],
   "source": [
    "qs[0].hit_count.hits"
   ]
  },
  {
   "cell_type": "code",
   "execution_count": 68,
   "id": "67986a42",
   "metadata": {},
   "outputs": [
    {
     "data": {
      "text/plain": [
       "2"
      ]
     },
     "execution_count": 68,
     "metadata": {},
     "output_type": "execute_result"
    }
   ],
   "source": [
    "Book.objects.get(name__contains='Sitting').hit_count.hits"
   ]
  },
  {
   "cell_type": "markdown",
   "id": "49a54f1c",
   "metadata": {},
   "source": [
    "get_avarage_rating()"
   ]
  },
  {
   "cell_type": "code",
   "execution_count": 35,
   "id": "59370a21",
   "metadata": {},
   "outputs": [],
   "source": [
    "book = Book.objects.get(name='tesgfdg')"
   ]
  },
  {
   "cell_type": "code",
   "execution_count": 36,
   "id": "903c3753",
   "metadata": {},
   "outputs": [
    {
     "data": {
      "text/plain": [
       "1"
      ]
     },
     "execution_count": 36,
     "metadata": {},
     "output_type": "execute_result"
    }
   ],
   "source": [
    "from hitcount.utils import get_hitcount_model\n",
    "\n",
    "hit_count = get_hitcount_model().objects.get_for_object(book)\n",
    "hit_count.hits"
   ]
  },
  {
   "cell_type": "code",
   "execution_count": null,
   "id": "5aa6c731",
   "metadata": {},
   "outputs": [],
   "source": []
  },
  {
   "cell_type": "code",
   "execution_count": null,
   "id": "c6e0ffeb",
   "metadata": {},
   "outputs": [],
   "source": []
  },
  {
   "cell_type": "code",
   "execution_count": null,
   "id": "a56cd1f5",
   "metadata": {},
   "outputs": [],
   "source": []
  },
  {
   "cell_type": "code",
   "execution_count": null,
   "id": "4c9f0491",
   "metadata": {},
   "outputs": [],
   "source": []
  },
  {
   "cell_type": "code",
   "execution_count": null,
   "id": "b93f7af8",
   "metadata": {},
   "outputs": [],
   "source": []
  },
  {
   "cell_type": "code",
   "execution_count": null,
   "id": "8968f091",
   "metadata": {},
   "outputs": [],
   "source": []
  },
  {
   "cell_type": "code",
   "execution_count": null,
   "id": "993b4475",
   "metadata": {},
   "outputs": [],
   "source": []
  },
  {
   "cell_type": "code",
   "execution_count": null,
   "id": "50e9433e",
   "metadata": {},
   "outputs": [],
   "source": []
  },
  {
   "cell_type": "code",
   "execution_count": null,
   "id": "681ec39e",
   "metadata": {},
   "outputs": [],
   "source": []
  },
  {
   "cell_type": "code",
   "execution_count": null,
   "id": "1ecb7655",
   "metadata": {},
   "outputs": [],
   "source": []
  },
  {
   "cell_type": "code",
   "execution_count": null,
   "id": "d7c882a4",
   "metadata": {},
   "outputs": [],
   "source": []
  },
  {
   "cell_type": "code",
   "execution_count": null,
   "id": "599f6562",
   "metadata": {},
   "outputs": [],
   "source": []
  }
 ],
 "metadata": {
  "kernelspec": {
   "display_name": "Django Shell-Plus",
   "language": "python",
   "name": "django_extensions"
  },
  "language_info": {
   "codemirror_mode": {
    "name": "ipython",
    "version": 3
   },
   "file_extension": ".py",
   "mimetype": "text/x-python",
   "name": "python",
   "nbconvert_exporter": "python",
   "pygments_lexer": "ipython3",
   "version": "3.10.4"
  }
 },
 "nbformat": 4,
 "nbformat_minor": 5
}
