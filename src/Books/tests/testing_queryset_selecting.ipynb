{
 "cells": [
  {
   "cell_type": "code",
   "execution_count": 3,
   "id": "9996483c",
   "metadata": {},
   "outputs": [],
   "source": [
    "import os\n",
    "import django\n",
    "os.environ.setdefault('DJANGO_SETTINGS_MODULE', 'config.settings.local')\n",
    "os.environ[\"DJANGO_ALLOW_ASYNC_UNSAFE\"] = \"true\"\n",
    "django.setup()"
   ]
  },
  {
   "cell_type": "code",
   "execution_count": 4,
   "id": "4f15de4f",
   "metadata": {},
   "outputs": [],
   "source": [
    "from django.contrib.auth.models import User"
   ]
  },
  {
   "cell_type": "code",
   "execution_count": 5,
   "id": "e2f312ef",
   "metadata": {},
   "outputs": [],
   "source": [
    "from Books.models import *"
   ]
  },
  {
   "cell_type": "code",
   "execution_count": 6,
   "id": "4f2a11c1",
   "metadata": {},
   "outputs": [],
   "source": [
    "from Authors.models import Author"
   ]
  },
  {
   "cell_type": "code",
   "execution_count": 7,
   "id": "dc4f04b2",
   "metadata": {},
   "outputs": [],
   "source": [
    "from django.db.models import *\n",
    "from django.db.models.functions import *\n",
    "from django.core import serializers"
   ]
  },
  {
   "cell_type": "code",
   "execution_count": 8,
   "id": "f0cfa0b7",
   "metadata": {},
   "outputs": [],
   "source": [
    "from django.shortcuts import get_object_or_404"
   ]
  },
  {
   "cell_type": "code",
   "execution_count": 9,
   "id": "94098860",
   "metadata": {},
   "outputs": [],
   "source": [
    "from Books.services import *\n",
    "from Books.selectors import *\n",
    "from django.contrib.postgres.aggregates import * "
   ]
  },
  {
   "cell_type": "code",
   "execution_count": 27,
   "id": "8313fb99",
   "metadata": {},
   "outputs": [],
   "source": [
    "books = Book.objects.filter(pk__in=[5,6,9])"
   ]
  },
  {
   "cell_type": "code",
   "execution_count": 36,
   "id": "e04e29ce",
   "metadata": {},
   "outputs": [],
   "source": [
    "hits = HitCount.objects.filter(object_pk__in=[5,6,9])."
   ]
  },
  {
   "cell_type": "code",
   "execution_count": 37,
   "id": "14263426",
   "metadata": {},
   "outputs": [
    {
     "data": {
      "text/plain": [
       "<QuerySet [{'id': 1, 'hits': 3, 'modified': datetime.datetime(2022, 6, 10, 17, 51, 32, 648503, tzinfo=datetime.timezone.utc), 'content_type_id': 9, 'object_pk': 6}, {'id': 5, 'hits': 1, 'modified': datetime.datetime(2022, 6, 10, 19, 36, 6, 635119, tzinfo=datetime.timezone.utc), 'content_type_id': 9, 'object_pk': 9}, {'id': 6, 'hits': 0, 'modified': datetime.datetime(2022, 6, 10, 19, 21, 10, 161441, tzinfo=datetime.timezone.utc), 'content_type_id': 9, 'object_pk': 5}]>"
      ]
     },
     "execution_count": 37,
     "metadata": {},
     "output_type": "execute_result"
    }
   ],
   "source": [
    "hits"
   ]
  },
  {
   "cell_type": "code",
   "execution_count": null,
   "id": "67986a42",
   "metadata": {},
   "outputs": [],
   "source": []
  },
  {
   "cell_type": "markdown",
   "id": "49a54f1c",
   "metadata": {},
   "source": [
    "get_avarage_rating()"
   ]
  },
  {
   "cell_type": "code",
   "execution_count": null,
   "id": "59370a21",
   "metadata": {},
   "outputs": [],
   "source": []
  },
  {
   "cell_type": "code",
   "execution_count": null,
   "id": "903c3753",
   "metadata": {},
   "outputs": [],
   "source": []
  },
  {
   "cell_type": "code",
   "execution_count": null,
   "id": "5aa6c731",
   "metadata": {},
   "outputs": [],
   "source": []
  },
  {
   "cell_type": "code",
   "execution_count": null,
   "id": "c6e0ffeb",
   "metadata": {},
   "outputs": [],
   "source": []
  },
  {
   "cell_type": "code",
   "execution_count": null,
   "id": "a56cd1f5",
   "metadata": {},
   "outputs": [],
   "source": []
  },
  {
   "cell_type": "code",
   "execution_count": null,
   "id": "4c9f0491",
   "metadata": {},
   "outputs": [],
   "source": []
  },
  {
   "cell_type": "code",
   "execution_count": null,
   "id": "b93f7af8",
   "metadata": {},
   "outputs": [],
   "source": []
  },
  {
   "cell_type": "code",
   "execution_count": null,
   "id": "8968f091",
   "metadata": {},
   "outputs": [],
   "source": []
  },
  {
   "cell_type": "code",
   "execution_count": null,
   "id": "993b4475",
   "metadata": {},
   "outputs": [],
   "source": []
  },
  {
   "cell_type": "code",
   "execution_count": null,
   "id": "50e9433e",
   "metadata": {},
   "outputs": [],
   "source": []
  },
  {
   "cell_type": "code",
   "execution_count": null,
   "id": "681ec39e",
   "metadata": {},
   "outputs": [],
   "source": []
  },
  {
   "cell_type": "code",
   "execution_count": null,
   "id": "1ecb7655",
   "metadata": {},
   "outputs": [],
   "source": []
  },
  {
   "cell_type": "code",
   "execution_count": null,
   "id": "d7c882a4",
   "metadata": {},
   "outputs": [],
   "source": []
  },
  {
   "cell_type": "code",
   "execution_count": null,
   "id": "599f6562",
   "metadata": {},
   "outputs": [],
   "source": []
  }
 ],
 "metadata": {
  "kernelspec": {
   "display_name": "Django Shell-Plus",
   "language": "python",
   "name": "django_extensions"
  },
  "language_info": {
   "codemirror_mode": {
    "name": "ipython",
    "version": 3
   },
   "file_extension": ".py",
   "mimetype": "text/x-python",
   "name": "python",
   "nbconvert_exporter": "python",
   "pygments_lexer": "ipython3",
   "version": "3.10.4"
  }
 },
 "nbformat": 4,
 "nbformat_minor": 5
}
