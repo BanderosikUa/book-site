{
 "cells": [
  {
   "cell_type": "code",
   "execution_count": 1,
   "id": "9996483c",
   "metadata": {},
   "outputs": [],
   "source": [
    "import os\n",
    "import django\n",
    "os.environ.setdefault('DJANGO_SETTINGS_MODULE', 'config.settings.local')\n",
    "os.environ[\"DJANGO_ALLOW_ASYNC_UNSAFE\"] = \"true\"\n",
    "django.setup()"
   ]
  },
  {
   "cell_type": "code",
   "execution_count": 2,
   "id": "4f15de4f",
   "metadata": {},
   "outputs": [],
   "source": [
    "from django.contrib.auth.models import User"
   ]
  },
  {
   "cell_type": "code",
   "execution_count": 3,
   "id": "e2f312ef",
   "metadata": {},
   "outputs": [],
   "source": [
    "from Books.models import *"
   ]
  },
  {
   "cell_type": "code",
   "execution_count": 4,
   "id": "4f2a11c1",
   "metadata": {},
   "outputs": [],
   "source": [
    "from Authors.models import Author"
   ]
  },
  {
   "cell_type": "code",
   "execution_count": 5,
   "id": "dc4f04b2",
   "metadata": {},
   "outputs": [],
   "source": [
    "from django.db.models import *"
   ]
  },
  {
   "cell_type": "code",
   "execution_count": 6,
   "id": "94098860",
   "metadata": {},
   "outputs": [],
   "source": [
    "from Books.services import *\n",
    "from Books.selectors import *"
   ]
  },
  {
   "cell_type": "code",
   "execution_count": 7,
   "id": "8313fb99",
   "metadata": {},
   "outputs": [],
   "source": [
    "users_bookmarks = get_users_bookmarks(book_pk=1)"
   ]
  },
  {
   "cell_type": "code",
   "execution_count": 8,
   "id": "e04e29ce",
   "metadata": {},
   "outputs": [
    {
     "data": {
      "text/plain": [
       "{'plan_to_read': 0, 'reading': 0, 'read': 2, 'abandonded': 1}"
      ]
     },
     "execution_count": 8,
     "metadata": {},
     "output_type": "execute_result"
    }
   ],
   "source": [
    "users_bookmarks"
   ]
  },
  {
   "cell_type": "code",
   "execution_count": 9,
   "id": "14263426",
   "metadata": {},
   "outputs": [],
   "source": [
    "user2 = User.objects.get(pk=2)\n",
    "book = Book.objects.get(pk=1)"
   ]
  },
  {
   "cell_type": "code",
   "execution_count": 10,
   "id": "67986a42",
   "metadata": {},
   "outputs": [],
   "source": [
    "comment = CommentBook.objects.create(book=book,\n",
    "                                     user=user2,\n",
    "                                     body=\"\")"
   ]
  },
  {
   "cell_type": "code",
   "execution_count": 14,
   "id": "b0b9c9d1",
   "metadata": {},
   "outputs": [
    {
     "data": {
      "text/plain": [
       "str"
      ]
     },
     "execution_count": 14,
     "metadata": {},
     "output_type": "execute_result"
    }
   ],
   "source": [
    "type(book.slug)"
   ]
  },
  {
   "cell_type": "code",
   "execution_count": 20,
   "id": "903c3753",
   "metadata": {},
   "outputs": [
    {
     "name": "stdout",
     "output_type": "stream",
     "text": [
      "04 June 2022\n"
     ]
    }
   ],
   "source": [
    "import datetime\n",
    "\n",
    "print(datetime.datetime.now().strftime(\"%d %B %Y\"))"
   ]
  },
  {
   "cell_type": "code",
   "execution_count": null,
   "id": "5aa6c731",
   "metadata": {},
   "outputs": [],
   "source": []
  },
  {
   "cell_type": "code",
   "execution_count": null,
   "id": "c6e0ffeb",
   "metadata": {},
   "outputs": [],
   "source": []
  },
  {
   "cell_type": "code",
   "execution_count": null,
   "id": "b93f7af8",
   "metadata": {},
   "outputs": [],
   "source": []
  },
  {
   "cell_type": "code",
   "execution_count": null,
   "id": "8968f091",
   "metadata": {},
   "outputs": [],
   "source": []
  },
  {
   "cell_type": "code",
   "execution_count": null,
   "id": "993b4475",
   "metadata": {},
   "outputs": [],
   "source": []
  },
  {
   "cell_type": "code",
   "execution_count": null,
   "id": "50e9433e",
   "metadata": {},
   "outputs": [],
   "source": []
  },
  {
   "cell_type": "code",
   "execution_count": null,
   "id": "681ec39e",
   "metadata": {},
   "outputs": [],
   "source": []
  },
  {
   "cell_type": "code",
   "execution_count": null,
   "id": "1ecb7655",
   "metadata": {},
   "outputs": [],
   "source": []
  },
  {
   "cell_type": "code",
   "execution_count": null,
   "id": "599f6562",
   "metadata": {},
   "outputs": [],
   "source": []
  }
 ],
 "metadata": {
  "kernelspec": {
   "display_name": "Django Shell-Plus",
   "language": "python",
   "name": "django_extensions"
  },
  "language_info": {
   "codemirror_mode": {
    "name": "ipython",
    "version": 3
   },
   "file_extension": ".py",
   "mimetype": "text/x-python",
   "name": "python",
   "nbconvert_exporter": "python",
   "pygments_lexer": "ipython3",
   "version": "3.10.4"
  }
 },
 "nbformat": 4,
 "nbformat_minor": 5
}
