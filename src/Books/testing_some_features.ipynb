{
 "cells": [
  {
   "cell_type": "code",
   "execution_count": 10,
   "id": "9996483c",
   "metadata": {},
   "outputs": [],
   "source": [
    "import os\n",
    "import django\n",
    "os.environ.setdefault('DJANGO_SETTINGS_MODULE', 'config.settings.local')\n",
    "os.environ[\"DJANGO_ALLOW_ASYNC_UNSAFE\"] = \"true\"\n",
    "django.setup()"
   ]
  },
  {
   "cell_type": "code",
   "execution_count": 11,
   "id": "4f15de4f",
   "metadata": {},
   "outputs": [],
   "source": [
    "from django.contrib.auth.models import User"
   ]
  },
  {
   "cell_type": "code",
   "execution_count": 12,
   "id": "e2f312ef",
   "metadata": {},
   "outputs": [],
   "source": [
    "from Books.models import *"
   ]
  },
  {
   "cell_type": "code",
   "execution_count": 13,
   "id": "4f2a11c1",
   "metadata": {},
   "outputs": [],
   "source": [
    "from Authors.models import Author"
   ]
  },
  {
   "cell_type": "code",
   "execution_count": 14,
   "id": "94098860",
   "metadata": {},
   "outputs": [],
   "source": [
    "book = Book.objects.get(pk=1)"
   ]
  },
  {
   "cell_type": "code",
   "execution_count": 15,
   "id": "8313fb99",
   "metadata": {},
   "outputs": [],
   "source": [
    "rating_relation = UserBookRelation.objects.filter(book=book)"
   ]
  },
  {
   "cell_type": "code",
   "execution_count": 17,
   "id": "67986a42",
   "metadata": {},
   "outputs": [
    {
     "data": {
      "text/plain": [
       "{'rate__avg': 1.5, 'user__count': 2}"
      ]
     },
     "execution_count": 17,
     "metadata": {},
     "output_type": "execute_result"
    }
   ],
   "source": [
    "rating_relation.aggregate(models.Avg('rate'), models.Count('user'))"
   ]
  },
  {
   "cell_type": "code",
   "execution_count": null,
   "id": "8968f091",
   "metadata": {},
   "outputs": [],
   "source": [
    "user = User.objects.get(pk=2)"
   ]
  },
  {
   "cell_type": "code",
   "execution_count": null,
   "id": "993b4475",
   "metadata": {},
   "outputs": [],
   "source": [
    "user.books.all()"
   ]
  },
  {
   "cell_type": "code",
   "execution_count": null,
   "id": "50e9433e",
   "metadata": {},
   "outputs": [],
   "source": []
  },
  {
   "cell_type": "code",
   "execution_count": null,
   "id": "681ec39e",
   "metadata": {},
   "outputs": [],
   "source": []
  },
  {
   "cell_type": "code",
   "execution_count": null,
   "id": "1ecb7655",
   "metadata": {},
   "outputs": [],
   "source": []
  },
  {
   "cell_type": "code",
   "execution_count": null,
   "id": "599f6562",
   "metadata": {},
   "outputs": [],
   "source": []
  }
 ],
 "metadata": {
  "kernelspec": {
   "display_name": "Django Shell-Plus",
   "language": "python",
   "name": "django_extensions"
  },
  "language_info": {
   "codemirror_mode": {
    "name": "ipython",
    "version": 3
   },
   "file_extension": ".py",
   "mimetype": "text/x-python",
   "name": "python",
   "nbconvert_exporter": "python",
   "pygments_lexer": "ipython3",
   "version": "3.10.4"
  }
 },
 "nbformat": 4,
 "nbformat_minor": 5
}
